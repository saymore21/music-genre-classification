{
 "cells": [
  {
   "cell_type": "code",
   "execution_count": null,
   "metadata": {},
   "outputs": [],
   "source": [
    "import os\n",
    "import sox\n",
    "import numpy as np\n",
    "import librosa\n",
    "import pandas as pd\n",
    "import numpy as np\n",
    "\n",
    "def covert_to_wav():\n",
    "    \"\"\"\n",
    "        Code to convert au fies to wav files\n",
    "        this is done to get a better representation and understandable form of audio features. \n",
    "    \"\"\"\n",
    "    genres = ['blues', 'classical', 'country', 'disco', 'hiphop', 'jazz', 'metal', 'pop', 'reggae', 'rock']\n",
    "    tfm = sox.Transformer()\n",
    "    for index in range(len(allgenres)):\n",
    "        for filename in os.listdir('./genres/' + allgenres[index]):\n",
    "            if filename.endswith(\".au\"):\n",
    "                tfm.build('./genres/'+ allgenres[index] + '/' + filename, './genres/' + allgenres[index] + '/' + filename[:-2]+'wav')\n",
    "\n",
    "def save_npy():    \n",
    "    songs = np.zeros((10000, 44100))\n",
    "    final = np.zeros((10000, 44101))\n",
    "    cv_data = np.zeros((100, 44101))\n",
    "    test_data = np.zeros((100, 44101))\n",
    "    labels = np.zeros((10000, 1))\n",
    "    counter = 0\n",
    "\n",
    "    allgenres = ['blues', 'classical', 'country', 'disco', 'hiphop', 'jazz', 'metal', 'pop', 'reggae', 'rock']\n",
    "    # Splits each song into 10 examples of shape (44101, 1) ~ 2 seconds each\n",
    "    numsplit = 10\n",
    "    sizesplit = 44100\n",
    "    # generalized loop to process data\n",
    "    for index in range(len(allgenres)):\n",
    "        for filename in os.listdir('./genres/' + allgenres[index]):\n",
    "                audio, sr = librosa.core.load('./genres/' + allgenres[index] + '/' + filename)\n",
    "                for j in range(numsplit):\n",
    "                    songs[counter] = audio[(sizesplit * j) : (sizesplit * (j + 1))]\n",
    "                    final[counter] =  np.append(songs[counter], index)\n",
    "                    labels[counter] = index\n",
    "                    counter += 1\n",
    "        idx = np.random.randint(final.shape[0], size=10)\n",
    "        cv_data = final[idx, :]\n",
    "        idx = np.random.randint(final.shape[0], size=10)\n",
    "        test_data = final[idx, :]\n",
    "    return final[0:8000, :], cv_data, test_data\n",
    "                  \n",
    "covert_to_wav()\n",
    "train, cv, test = save_npy()\n",
    "np.save('train.npy', train)\n",
    "np.save('cv.npy', cv)\n",
    "np.save('test.npy', test)"
   ]
  }
 ],
 "metadata": {
  "kernelspec": {
   "display_name": "Python 3",
   "language": "python",
   "name": "python3"
  },
  "language_info": {
   "codemirror_mode": {
    "name": "ipython",
    "version": 3
   },
   "file_extension": ".py",
   "mimetype": "text/x-python",
   "name": "python",
   "nbconvert_exporter": "python",
   "pygments_lexer": "ipython3",
   "version": "3.7.2"
  }
 },
 "nbformat": 4,
 "nbformat_minor": 2
}
