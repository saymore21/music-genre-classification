{
 "cells": [
  {
   "cell_type": "code",
   "execution_count": 4,
   "metadata": {},
   "outputs": [],
   "source": [
    "import numpy as np\n",
    "import librosa as lb \n",
    "import matplotlib.pyplot as plt\n",
    "\n",
    "N_FFT = 512\n",
    "HOP_LENGTH = N_FFT // 2\n",
    "N_MELS = 64 \n",
    "\n",
    "def create_melspectrogram(dataset, convertptd=True, flag=False, num='', genre=\"\"):\n",
    "\n",
    "    melspecs_list = []\n",
    "    for i in range(len(dataset)):\n",
    "        melspec = lb.feature.melspectrogram(y=dataset[i], hop_length = HOP_LENGTH, n_fft = N_FFT, n_mels = N_MELS)\n",
    "\n",
    "        if convertptd:\n",
    "            melspec = lb.power_to_db(melspec**2)\n",
    "\n",
    "        if flag:\n",
    "            melspec = melspec[np.newaxis, :]\n",
    "            plt.imshow(melspec.reshape((melspec.shape[1],melspec.shape[2])))\n",
    "            plt.savefig('melspec'+str(num)+'_'+str(genre)+'.png')\n",
    "        \n",
    "        melspecs_list.append(melspec)\n",
    "    return np.asarray(melspecs_list)\n",
    "\n",
    "\n",
    "training_data = np.load('train.npy')\n",
    "train_x = np.delete(training_data, -1, 1)\n",
    "train_y = training_data[:,-1]\n",
    "train_melspects = create_melspectrogram(train_x)\n",
    "\n",
    "testing_data = np.load('test.npy')\n",
    "print(testing_data.shape)\n",
    "test_x = np.delete(testing_data, -1, 1)\n",
    "test_y = testing_data[:,-1]\n",
    "test_melspects = create_melspectrogram(test_x)\n",
    "\n",
    "crossval_data = np.load('cv.npy')\n",
    "cv_x = np.delete(crossval_data, -1, 1)\n",
    "cv_y = crossval_data[:,-1]\n",
    "cv_melspects = create_melspectrogram(cv_x)\n",
    "\n",
    "np.savez(\"melspectograms.npz\", x_train=train_melspects, y_train=train_y, x_test=test_melspects, y_test=test_y, x_cv=cv_melspects, y_cv=cv_y)\n"
   ]
  }
 ],
 "metadata": {
  "kernelspec": {
   "display_name": "Python 3",
   "language": "python",
   "name": "python3"
  },
  "language_info": {
   "codemirror_mode": {
    "name": "ipython",
    "version": 3
   },
   "file_extension": ".py",
   "mimetype": "text/x-python",
   "name": "python",
   "nbconvert_exporter": "python",
   "pygments_lexer": "ipython3",
   "version": "3.7.2"
  }
 },
 "nbformat": 4,
 "nbformat_minor": 2
}
